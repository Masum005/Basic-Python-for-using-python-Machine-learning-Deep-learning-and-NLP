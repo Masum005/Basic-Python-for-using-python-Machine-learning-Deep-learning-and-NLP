{
 "cells": [
  {
   "cell_type": "markdown",
   "id": "c72d5d09-78b8-40e8-a493-e75890196ff5",
   "metadata": {},
   "source": [
    "### List\n",
    "1. append()\n",
    "2. extend()\n",
    "3. index()\n",
    "4. insert()\n",
    "5. pop()\n",
    "6. remove()\n",
    "7. reverse()\n",
    "8. count()\n",
    "9. sort()\n",
    "10. clear()\n",
    "11. replication() #shadow\n",
    "12. Element Delection\n",
    "13. copying"
   ]
  },
  {
   "cell_type": "markdown",
   "id": "c8991e8c-996b-4baa-8eeb-e5dd29972bbd",
   "metadata": {},
   "source": [
    "### 1. append() "
   ]
  },
  {
   "cell_type": "code",
   "execution_count": 73,
   "id": "bde30588-d313-4d01-9b0b-e7da884f1f9a",
   "metadata": {},
   "outputs": [],
   "source": [
    "li = [1,2,3,4,5,6,7,8] # creating list"
   ]
  },
  {
   "cell_type": "code",
   "execution_count": 74,
   "id": "07915333-aed4-4fe3-878f-960a6854fa2a",
   "metadata": {},
   "outputs": [],
   "source": [
    "li.append(77) # append will be in last"
   ]
  },
  {
   "cell_type": "code",
   "execution_count": 75,
   "id": "f90f7350-19d4-4d47-bf41-6df936fe7b4c",
   "metadata": {},
   "outputs": [
    {
     "data": {
      "text/plain": [
       "[1, 2, 3, 4, 5, 6, 7, 8, 77]"
      ]
     },
     "execution_count": 75,
     "metadata": {},
     "output_type": "execute_result"
    }
   ],
   "source": [
    "li"
   ]
  },
  {
   "cell_type": "code",
   "execution_count": 76,
   "id": "42c7ed38-4a4c-4ccb-abb8-ab9005ca206a",
   "metadata": {},
   "outputs": [],
   "source": [
    "duplicate_list = [1,2,3,4,6,9,6]"
   ]
  },
  {
   "cell_type": "code",
   "execution_count": 77,
   "id": "3b268c94-86f5-42e2-b041-51f0b42df154",
   "metadata": {},
   "outputs": [],
   "source": [
    "li.append(duplicate_list)"
   ]
  },
  {
   "cell_type": "code",
   "execution_count": 78,
   "id": "9dc98184-5c4c-45f5-aad8-63504025732f",
   "metadata": {},
   "outputs": [
    {
     "data": {
      "text/plain": [
       "[1, 2, 3, 4, 5, 6, 7, 8, 77, [1, 2, 3, 4, 6, 9, 6]]"
      ]
     },
     "execution_count": 78,
     "metadata": {},
     "output_type": "execute_result"
    }
   ],
   "source": [
    "li"
   ]
  },
  {
   "cell_type": "code",
   "execution_count": 79,
   "id": "3dc1701b-aa6d-407c-a452-7b693c279b8a",
   "metadata": {},
   "outputs": [],
   "source": [
    "name = 'Bangladesh'"
   ]
  },
  {
   "cell_type": "code",
   "execution_count": 80,
   "id": "71c125a3-b180-43e8-9f15-80f099ec317e",
   "metadata": {},
   "outputs": [],
   "source": [
    "li.append(name)"
   ]
  },
  {
   "cell_type": "code",
   "execution_count": 81,
   "id": "069999a3-7b2f-44b3-a974-571e1a39d9c5",
   "metadata": {},
   "outputs": [
    {
     "data": {
      "text/plain": [
       "[1, 2, 3, 4, 5, 6, 7, 8, 77, [1, 2, 3, 4, 6, 9, 6], 'Bangladesh']"
      ]
     },
     "execution_count": 81,
     "metadata": {},
     "output_type": "execute_result"
    }
   ],
   "source": [
    "li"
   ]
  },
  {
   "cell_type": "code",
   "execution_count": 82,
   "id": "f045c203-50b9-4f2f-ab45-dcb615bb2cd3",
   "metadata": {},
   "outputs": [
    {
     "data": {
      "text/plain": [
       "'Bangladesh'"
      ]
     },
     "execution_count": 82,
     "metadata": {},
     "output_type": "execute_result"
    }
   ],
   "source": [
    "li[10]"
   ]
  },
  {
   "cell_type": "code",
   "execution_count": 83,
   "id": "4ce4f305-6868-43be-9959-1942806755d8",
   "metadata": {},
   "outputs": [],
   "source": [
    "#llop\n",
    "a = [] #blank list\n",
    "for i in range ( 1, 11):\n",
    "    a.append(i)"
   ]
  },
  {
   "cell_type": "code",
   "execution_count": 84,
   "id": "bf53070f-88dd-443c-839e-058c5a8c6e21",
   "metadata": {},
   "outputs": [
    {
     "data": {
      "text/plain": [
       "[1, 2, 3, 4, 5, 6, 7, 8, 9, 10]"
      ]
     },
     "execution_count": 84,
     "metadata": {},
     "output_type": "execute_result"
    }
   ],
   "source": [
    "a"
   ]
  },
  {
   "cell_type": "code",
   "execution_count": 85,
   "id": "bc3a819b-2c8e-40c0-b783-1c76356e4b57",
   "metadata": {},
   "outputs": [],
   "source": [
    "a = [] #blank list\n",
    "for i in range ( 1, 11):\n",
    "    a.append(i//2*3)"
   ]
  },
  {
   "cell_type": "code",
   "execution_count": 86,
   "id": "0814b932-55ad-4f8d-9ece-0e6133e31e84",
   "metadata": {},
   "outputs": [
    {
     "data": {
      "text/plain": [
       "[0, 3, 3, 6, 6, 9, 9, 12, 12, 15]"
      ]
     },
     "execution_count": 86,
     "metadata": {},
     "output_type": "execute_result"
    }
   ],
   "source": [
    "a"
   ]
  },
  {
   "cell_type": "code",
   "execution_count": 87,
   "id": "a9c368dc-8193-4a0f-8832-cf3303abc7b2",
   "metadata": {},
   "outputs": [
    {
     "name": "stdout",
     "output_type": "stream",
     "text": [
      "2.25\n",
      "2\n",
      "1\n",
      "0\n"
     ]
    }
   ],
   "source": [
    "a = 4\n",
    "b= 9\n",
    "\n",
    "single_div = b/a\n",
    "modified__div = b//a # no reminder %module\n",
    "module = b%a\n",
    "module_mm = 9%3\n",
    "\n",
    "\n",
    "print (single_div)\n",
    "print (modified__div)\n",
    "print (module)\n",
    "print(module_mm)"
   ]
  },
  {
   "cell_type": "markdown",
   "id": "9384b500-ab62-41b3-aa10-8769c7fb7ae1",
   "metadata": {},
   "source": [
    "### 2. Extend()"
   ]
  },
  {
   "cell_type": "code",
   "execution_count": 88,
   "id": "f611f8b3-4634-4470-bbb5-2c6ff95ab086",
   "metadata": {},
   "outputs": [],
   "source": [
    "intial_list = [1, 2, 3, 4, 5, 6, 7, 8, 9, 10]\n",
    "extra_list = [0, 3, 3, 6, 6, 9, 9, 12, 12, 15]\n",
    "\n",
    "#variable = intial_list.extend (extra_list) = none\n",
    "\n",
    "intial_list.extend(extra_list)"
   ]
  },
  {
   "cell_type": "code",
   "execution_count": 89,
   "id": "f54bbde6-4453-4404-bba6-55fda6dd589e",
   "metadata": {},
   "outputs": [
    {
     "data": {
      "text/plain": [
       "[1, 2, 3, 4, 5, 6, 7, 8, 9, 10, 0, 3, 3, 6, 6, 9, 9, 12, 12, 15]"
      ]
     },
     "execution_count": 89,
     "metadata": {},
     "output_type": "execute_result"
    }
   ],
   "source": [
    "intial_list"
   ]
  },
  {
   "cell_type": "code",
   "execution_count": 90,
   "id": "0433fccc-fe1c-464c-82b6-46c6f474310d",
   "metadata": {},
   "outputs": [],
   "source": [
    "intial_list.extend(range(33,44))"
   ]
  },
  {
   "cell_type": "code",
   "execution_count": 91,
   "id": "c123fee6-20b2-4e3d-9266-f6902af63013",
   "metadata": {},
   "outputs": [
    {
     "name": "stdout",
     "output_type": "stream",
     "text": [
      "[1, 2, 3, 4, 5, 6, 7, 8, 9, 10, 0, 3, 3, 6, 6, 9, 9, 12, 12, 15, 33, 34, 35, 36, 37, 38, 39, 40, 41, 42, 43]\n"
     ]
    }
   ],
   "source": [
    "print(intial_list)"
   ]
  },
  {
   "cell_type": "markdown",
   "id": "6cee5299-ebf3-44e5-8381-b2a46975c8e0",
   "metadata": {},
   "source": [
    "### 3.indexing"
   ]
  },
  {
   "cell_type": "code",
   "execution_count": 92,
   "id": "d415ef72-ef22-4c65-b655-89cead15e89a",
   "metadata": {},
   "outputs": [
    {
     "name": "stdout",
     "output_type": "stream",
     "text": [
      "[1, 2, 3, 4, 5, 6, 7, 8, 9, 10, 0, 3, 3, 6, 6, 9, 9, 12, 12, 15, 33, 34, 35, 36, 37, 38, 39, 40, 41, 42, 43]\n"
     ]
    }
   ],
   "source": [
    "print(intial_list)"
   ]
  },
  {
   "cell_type": "code",
   "execution_count": 93,
   "id": "de449aed-c0b1-40d2-9ed6-5699625c7c64",
   "metadata": {},
   "outputs": [
    {
     "name": "stdout",
     "output_type": "stream",
     "text": [
      "30\n"
     ]
    }
   ],
   "source": [
    "print(intial_list.index(43)) # input --> value; output -->index"
   ]
  },
  {
   "cell_type": "code",
   "execution_count": 94,
   "id": "5cf6a01c-3346-407d-95dd-2ba891caca06",
   "metadata": {},
   "outputs": [
    {
     "data": {
      "text/plain": [
       "43"
      ]
     },
     "execution_count": 94,
     "metadata": {},
     "output_type": "execute_result"
    }
   ],
   "source": [
    "intial_list[30] # input --> index ; output --> value"
   ]
  },
  {
   "cell_type": "markdown",
   "id": "8410b94b-76c4-4cc6-971c-b9705036d8f8",
   "metadata": {},
   "source": [
    "### 4.insert"
   ]
  },
  {
   "cell_type": "code",
   "execution_count": 95,
   "id": "2d3671a1-cdda-47fc-a3f2-b57d9c5760f9",
   "metadata": {},
   "outputs": [],
   "source": [
    "intial_list.insert(4, 540) # insert index at value"
   ]
  },
  {
   "cell_type": "code",
   "execution_count": 96,
   "id": "02ee446d-265c-4d90-8d8f-86807c72bbfe",
   "metadata": {},
   "outputs": [
    {
     "name": "stdout",
     "output_type": "stream",
     "text": [
      "[1, 2, 3, 4, 540, 5, 6, 7, 8, 9, 10, 0, 3, 3, 6, 6, 9, 9, 12, 12, 15, 33, 34, 35, 36, 37, 38, 39, 40, 41, 42, 43]\n"
     ]
    }
   ],
   "source": [
    "print(intial_list)"
   ]
  },
  {
   "cell_type": "markdown",
   "id": "994b76ec-3b93-4454-bd39-752290abcbe6",
   "metadata": {},
   "source": [
    "### 5.pop"
   ]
  },
  {
   "cell_type": "code",
   "execution_count": 97,
   "id": "a9b43980-7ca4-4ff5-8e6d-9a93d1129507",
   "metadata": {},
   "outputs": [
    {
     "data": {
      "text/plain": [
       "540"
      ]
     },
     "execution_count": 97,
     "metadata": {},
     "output_type": "execute_result"
    }
   ],
   "source": [
    "intial_list.pop(4)  "
   ]
  },
  {
   "cell_type": "code",
   "execution_count": 98,
   "id": "b3ce86fd-05e6-4357-8675-18ed0af7e1c4",
   "metadata": {},
   "outputs": [
    {
     "name": "stdout",
     "output_type": "stream",
     "text": [
      "[1, 2, 3, 4, 5, 6, 7, 8, 9, 10, 0, 3, 3, 6, 6, 9, 9, 12, 12, 15, 33, 34, 35, 36, 37, 38, 39, 40, 41, 42, 43]\n"
     ]
    }
   ],
   "source": [
    "print(intial_list)"
   ]
  },
  {
   "cell_type": "code",
   "execution_count": 99,
   "id": "9037745b-a595-42dd-87ca-9a71447e5ae8",
   "metadata": {},
   "outputs": [
    {
     "data": {
      "text/plain": [
       "43"
      ]
     },
     "execution_count": 99,
     "metadata": {},
     "output_type": "execute_result"
    }
   ],
   "source": [
    "intial_list.pop() # pop always delete last valu if you dont select index; parameter --> Index"
   ]
  },
  {
   "cell_type": "code",
   "execution_count": 100,
   "id": "c5167f98-3869-4413-bafe-6083c3b33982",
   "metadata": {},
   "outputs": [
    {
     "name": "stdout",
     "output_type": "stream",
     "text": [
      "[1, 2, 3, 4, 5, 6, 7, 8, 9, 10, 0, 3, 3, 6, 6, 9, 9, 12, 12, 15, 33, 34, 35, 36, 37, 38, 39, 40, 41, 42]\n"
     ]
    }
   ],
   "source": [
    "print(intial_list)"
   ]
  },
  {
   "cell_type": "markdown",
   "id": "2ecb23c4-85f9-40b6-92e7-0d39f5ae565d",
   "metadata": {},
   "source": [
    "#### 6. Remove"
   ]
  },
  {
   "cell_type": "code",
   "execution_count": 101,
   "id": "37ac945c-48ac-4005-9e0d-2e1128fc8daa",
   "metadata": {},
   "outputs": [],
   "source": [
    "intial_list.remove(1)# parameter --> value  and perameter must"
   ]
  },
  {
   "cell_type": "code",
   "execution_count": 102,
   "id": "44856b59-ff9f-4540-bf05-dc849d5df878",
   "metadata": {},
   "outputs": [
    {
     "name": "stdout",
     "output_type": "stream",
     "text": [
      "[2, 3, 4, 5, 6, 7, 8, 9, 10, 0, 3, 3, 6, 6, 9, 9, 12, 12, 15, 33, 34, 35, 36, 37, 38, 39, 40, 41, 42]\n"
     ]
    }
   ],
   "source": [
    "print(intial_list)"
   ]
  },
  {
   "cell_type": "code",
   "execution_count": 103,
   "id": "85aa8c90-2374-41ad-a90a-748b24a324c9",
   "metadata": {},
   "outputs": [],
   "source": [
    "intial_list.remove(9)"
   ]
  },
  {
   "cell_type": "code",
   "execution_count": 104,
   "id": "8f52bd57-94e2-4e04-9585-e58ba2ad3fba",
   "metadata": {},
   "outputs": [
    {
     "name": "stdout",
     "output_type": "stream",
     "text": [
      "[2, 3, 4, 5, 6, 7, 8, 10, 0, 3, 3, 6, 6, 9, 9, 12, 12, 15, 33, 34, 35, 36, 37, 38, 39, 40, 41, 42]\n"
     ]
    }
   ],
   "source": [
    "print(intial_list)"
   ]
  },
  {
   "cell_type": "code",
   "execution_count": 105,
   "id": "02b47084-558b-40c4-bba2-916a6cc9cfc6",
   "metadata": {},
   "outputs": [],
   "source": [
    "intial_list.remove(9)"
   ]
  },
  {
   "cell_type": "code",
   "execution_count": 106,
   "id": "810b254d-0763-4128-bb15-c777165114c8",
   "metadata": {},
   "outputs": [
    {
     "name": "stdout",
     "output_type": "stream",
     "text": [
      "[2, 3, 4, 5, 6, 7, 8, 10, 0, 3, 3, 6, 6, 9, 12, 12, 15, 33, 34, 35, 36, 37, 38, 39, 40, 41, 42]\n"
     ]
    }
   ],
   "source": [
    "print(intial_list)"
   ]
  },
  {
   "cell_type": "markdown",
   "id": "f19a121e-d7af-46ab-8934-c2aa9fb4e0b0",
   "metadata": {},
   "source": [
    "### 7. reverse"
   ]
  },
  {
   "cell_type": "code",
   "execution_count": 108,
   "id": "db1da40b-c601-4dce-8636-3b5469fdf427",
   "metadata": {},
   "outputs": [],
   "source": [
    "intial_list.reverse()"
   ]
  },
  {
   "cell_type": "code",
   "execution_count": 109,
   "id": "e5119873-05ea-4ea3-8811-649883796904",
   "metadata": {},
   "outputs": [
    {
     "name": "stdout",
     "output_type": "stream",
     "text": [
      "[42, 41, 40, 39, 38, 37, 36, 35, 34, 33, 15, 12, 12, 9, 6, 6, 3, 3, 0, 10, 8, 7, 6, 5, 4, 3, 2]\n"
     ]
    }
   ],
   "source": [
    "print(intial_list)"
   ]
  },
  {
   "cell_type": "markdown",
   "id": "9e6a6941-d64c-43ef-8345-c41d56a7cbf5",
   "metadata": {},
   "source": [
    "### 8. short"
   ]
  },
  {
   "cell_type": "code",
   "execution_count": 110,
   "id": "034afb6d-69f0-4d68-ae79-1c1a1c258d80",
   "metadata": {},
   "outputs": [],
   "source": [
    "intial_list.sort()"
   ]
  },
  {
   "cell_type": "code",
   "execution_count": 111,
   "id": "a806fed2-a58d-4e3a-bb09-75d626b7d273",
   "metadata": {},
   "outputs": [
    {
     "name": "stdout",
     "output_type": "stream",
     "text": [
      "[0, 2, 3, 3, 3, 4, 5, 6, 6, 6, 7, 8, 9, 10, 12, 12, 15, 33, 34, 35, 36, 37, 38, 39, 40, 41, 42]\n"
     ]
    }
   ],
   "source": [
    "print(intial_list)"
   ]
  },
  {
   "cell_type": "code",
   "execution_count": 114,
   "id": "4b0812bc-e92c-4651-9d0a-15cba1c8ee13",
   "metadata": {},
   "outputs": [],
   "source": [
    "intial_list.sort(reverse=True) # up to down"
   ]
  },
  {
   "cell_type": "code",
   "execution_count": 115,
   "id": "8f25d0b7-f485-425b-b5c4-1470a89fac10",
   "metadata": {},
   "outputs": [
    {
     "name": "stdout",
     "output_type": "stream",
     "text": [
      "[42, 41, 40, 39, 38, 37, 36, 35, 34, 33, 15, 12, 12, 10, 9, 8, 7, 6, 6, 6, 5, 4, 3, 3, 3, 2, 0]\n"
     ]
    }
   ],
   "source": [
    "print(intial_list)"
   ]
  },
  {
   "cell_type": "code",
   "execution_count": 116,
   "id": "da357f9c-cc4c-4134-b4d0-87f35d6a1368",
   "metadata": {},
   "outputs": [],
   "source": [
    "#oop --> object oriented programming\n",
    "# D- constructor\n",
    "# p-constractor"
   ]
  },
  {
   "cell_type": "code",
   "execution_count": 128,
   "id": "a0b7378c-5588-4340-b6e3-67c1f59e0828",
   "metadata": {},
   "outputs": [],
   "source": [
    "import datetime\n",
    "\n",
    "class person (object): \n",
    "    def __init__(self , name , class_roll, height):\n",
    "        self.name = name\n",
    "        self.class_roll = class_roll\n",
    "        self.height = height\n",
    "        \n",
    "        def __repr__(self):\n",
    "            return self.name\n",
    "        \n",
    "person_list =  [person ( 'Masum', 324, 45),\n",
    "                person ( 'Khalil', 544, 755),\n",
    "                person ( 'Tuhin', 3453, 4535)]\n",
    "               \n",
    "    \n",
    "person_list.sort( key = lambda item : item.name)"
   ]
  },
  {
   "cell_type": "code",
   "execution_count": 126,
   "id": "705d1042-dae3-42f7-b06a-61258b413c2c",
   "metadata": {},
   "outputs": [
    {
     "data": {
      "text/plain": [
       "[<__main__.person at 0x28ff7d356a0>,\n",
       " <__main__.person at 0x28ff7d35760>,\n",
       " <__main__.person at 0x28ff7d35700>]"
      ]
     },
     "execution_count": 126,
     "metadata": {},
     "output_type": "execute_result"
    }
   ],
   "source": [
    "person_list "
   ]
  },
  {
   "cell_type": "code",
   "execution_count": 131,
   "id": "3703702b-dc1a-4e81-8b23-3731e113dd89",
   "metadata": {},
   "outputs": [],
   "source": [
    "import datetime\n",
    "\n",
    "class person (object): \n",
    "    def __init__(self , name , class_roll, height):\n",
    "        self.name = name\n",
    "        self.class_roll = class_roll\n",
    "        self.height = height\n",
    "        \n",
    "        def __repr__(self):\n",
    "            return self.class_roll\n",
    "        \n",
    "person_list =  [person ( 'Masum', 324, 45),\n",
    "                person ( 'Khalil', 544, 755),\n",
    "                person ( 'Tuhin', 3453, 4535)]\n",
    "               \n",
    "    \n",
    "person_list.sort( key = lambda item : item.class_roll)"
   ]
  },
  {
   "cell_type": "code",
   "execution_count": 130,
   "id": "059d9f8c-7e38-4ac8-aa24-2599ed5ada15",
   "metadata": {},
   "outputs": [
    {
     "data": {
      "text/plain": [
       "[<__main__.person at 0x28ff7d35c70>,\n",
       " <__main__.person at 0x28ff7d351f0>,\n",
       " <__main__.person at 0x28ff7d35370>]"
      ]
     },
     "execution_count": 130,
     "metadata": {},
     "output_type": "execute_result"
    }
   ],
   "source": [
    "person_list"
   ]
  },
  {
   "cell_type": "code",
   "execution_count": null,
   "id": "6a80d164-3a7b-4c29-8d46-0f7601695e33",
   "metadata": {},
   "outputs": [],
   "source": []
  },
  {
   "cell_type": "code",
   "execution_count": null,
   "id": "1f52dcf7-4e8b-4916-86ca-a44e278ee3f8",
   "metadata": {},
   "outputs": [],
   "source": []
  }
 ],
 "metadata": {
  "kernelspec": {
   "display_name": "Python 3",
   "language": "python",
   "name": "python3"
  },
  "language_info": {
   "codemirror_mode": {
    "name": "ipython",
    "version": 3
   },
   "file_extension": ".py",
   "mimetype": "text/x-python",
   "name": "python",
   "nbconvert_exporter": "python",
   "pygments_lexer": "ipython3",
   "version": "3.9.6"
  }
 },
 "nbformat": 4,
 "nbformat_minor": 5
}
