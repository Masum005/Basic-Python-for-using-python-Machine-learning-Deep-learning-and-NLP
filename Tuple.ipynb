{
 "cells": [
  {
   "cell_type": "markdown",
   "id": "5fbd1533-f938-4d62-86a1-773f7c16a9fe",
   "metadata": {},
   "source": [
    "### Tuple"
   ]
  },
  {
   "cell_type": "code",
   "execution_count": 1,
   "id": "8d19344f-b2d2-4496-8ef5-1fb34d248f1f",
   "metadata": {},
   "outputs": [],
   "source": [
    "tle = (1,2,3,4,5,6)"
   ]
  },
  {
   "cell_type": "code",
   "execution_count": 2,
   "id": "2d480d22-45ca-41db-8007-4a23ba9756c8",
   "metadata": {},
   "outputs": [
    {
     "data": {
      "text/plain": [
       "tuple"
      ]
     },
     "execution_count": 2,
     "metadata": {},
     "output_type": "execute_result"
    }
   ],
   "source": [
    "type(tle)"
   ]
  },
  {
   "cell_type": "code",
   "execution_count": 3,
   "id": "02e29e27-93b8-42e0-a3e1-884eb1822ff2",
   "metadata": {},
   "outputs": [
    {
     "data": {
      "text/plain": [
       "tuple"
      ]
     },
     "execution_count": 3,
     "metadata": {},
     "output_type": "execute_result"
    }
   ],
   "source": [
    "# empty Tuple\n",
    "t = ()\n",
    "type(t)"
   ]
  },
  {
   "cell_type": "code",
   "execution_count": 4,
   "id": "b1e7bc9d-bcd2-43be-885a-b510ac380b97",
   "metadata": {},
   "outputs": [],
   "source": [
    "li = [1, ]\n",
    "tl = (1, )"
   ]
  },
  {
   "cell_type": "code",
   "execution_count": 5,
   "id": "f470d1cf-265f-4209-ae29-c9ba4db52c94",
   "metadata": {},
   "outputs": [],
   "source": [
    "t = \"a\","
   ]
  },
  {
   "cell_type": "code",
   "execution_count": 6,
   "id": "e3cc4920-9654-4092-9a28-a733edc9a66f",
   "metadata": {},
   "outputs": [
    {
     "data": {
      "text/plain": [
       "('a',)"
      ]
     },
     "execution_count": 6,
     "metadata": {},
     "output_type": "execute_result"
    }
   ],
   "source": [
    "t"
   ]
  },
  {
   "cell_type": "code",
   "execution_count": 7,
   "id": "5d4102ef-227c-43c1-a1cd-0d7299703f71",
   "metadata": {},
   "outputs": [
    {
     "name": "stdout",
     "output_type": "stream",
     "text": [
      "bangadesh\n"
     ]
    }
   ],
   "source": [
    "t = (\"bangadesh\")\n",
    "print(t)"
   ]
  },
  {
   "cell_type": "code",
   "execution_count": 8,
   "id": "16e9823e-5c44-4286-8af7-8a1421b9b0df",
   "metadata": {},
   "outputs": [],
   "source": [
    "tl = (1,2,3,4,5)"
   ]
  },
  {
   "cell_type": "code",
   "execution_count": 14,
   "id": "5ad5d643-4e7a-46be-ac87-71b97df0fa6f",
   "metadata": {},
   "outputs": [],
   "source": [
    "tl1 = (9,5,6,7)"
   ]
  },
  {
   "cell_type": "code",
   "execution_count": 15,
   "id": "7df7c0f0-91ba-4b08-a667-44912db83e3a",
   "metadata": {},
   "outputs": [],
   "source": [
    "tl+=tl1"
   ]
  },
  {
   "cell_type": "code",
   "execution_count": 16,
   "id": "40e9ab5d-2b16-4a3f-9fb3-6377cbe1880b",
   "metadata": {},
   "outputs": [
    {
     "data": {
      "text/plain": [
       "(1, 2, 3, 4, 5, 9, 5, 6, 7)"
      ]
     },
     "execution_count": 16,
     "metadata": {},
     "output_type": "execute_result"
    }
   ],
   "source": [
    "tl"
   ]
  },
  {
   "cell_type": "code",
   "execution_count": 17,
   "id": "20eda91e-ddce-4fd5-aa18-16496984f312",
   "metadata": {},
   "outputs": [],
   "source": [
    "tl += (11,12) # append"
   ]
  },
  {
   "cell_type": "code",
   "execution_count": 18,
   "id": "36e09599-6a10-471a-b9d0-190dfcb78aa2",
   "metadata": {},
   "outputs": [
    {
     "data": {
      "text/plain": [
       "(1, 2, 3, 4, 5, 9, 5, 6, 7, 11, 12)"
      ]
     },
     "execution_count": 18,
     "metadata": {},
     "output_type": "execute_result"
    }
   ],
   "source": [
    "tl"
   ]
  },
  {
   "cell_type": "code",
   "execution_count": 19,
   "id": "0033b623-4d21-4eb0-837d-31844e4781a3",
   "metadata": {},
   "outputs": [],
   "source": [
    "# paking and unpaking"
   ]
  },
  {
   "cell_type": "code",
   "execution_count": 24,
   "id": "f36058ff-c1e4-46f5-b124-27dfe2e819ce",
   "metadata": {},
   "outputs": [],
   "source": [
    "a= 1\n",
    "b= 1,"
   ]
  },
  {
   "cell_type": "code",
   "execution_count": 25,
   "id": "f23e3999-f87c-4edc-859d-a8eab400f84a",
   "metadata": {},
   "outputs": [
    {
     "name": "stdout",
     "output_type": "stream",
     "text": [
      "<class 'int'>\n",
      "<class 'tuple'>\n"
     ]
    }
   ],
   "source": [
    "print(type(a))\n",
    "print(type(b))"
   ]
  },
  {
   "cell_type": "code",
   "execution_count": 28,
   "id": "11258e8a-ab82-4774-8ddf-b274f9221483",
   "metadata": {},
   "outputs": [],
   "source": [
    "a = 1,2,3,4,5,6,7"
   ]
  },
  {
   "cell_type": "code",
   "execution_count": 29,
   "id": "37ba3370-e09a-427d-8fec-dd2f1d49bbbe",
   "metadata": {},
   "outputs": [
    {
     "data": {
      "text/plain": [
       "tuple"
      ]
     },
     "execution_count": 29,
     "metadata": {},
     "output_type": "execute_result"
    }
   ],
   "source": [
    "type(a)"
   ]
  },
  {
   "cell_type": "code",
   "execution_count": 30,
   "id": "736d7027-f207-4b10-bb47-589054c1e48f",
   "metadata": {},
   "outputs": [
    {
     "data": {
      "text/plain": [
       "7"
      ]
     },
     "execution_count": 30,
     "metadata": {},
     "output_type": "execute_result"
    }
   ],
   "source": [
    "max(a)"
   ]
  },
  {
   "cell_type": "code",
   "execution_count": 31,
   "id": "f59ca990-42f7-4a8d-9599-6f8e6b3c4f07",
   "metadata": {},
   "outputs": [
    {
     "data": {
      "text/plain": [
       "1"
      ]
     },
     "execution_count": 31,
     "metadata": {},
     "output_type": "execute_result"
    }
   ],
   "source": [
    "min(a)"
   ]
  },
  {
   "cell_type": "code",
   "execution_count": 32,
   "id": "f2da2e6d-db1b-4661-bb37-2d60d6dcd622",
   "metadata": {},
   "outputs": [],
   "source": [
    "import numpy as np"
   ]
  },
  {
   "cell_type": "code",
   "execution_count": 33,
   "id": "5403341b-7a35-44f2-b645-ffbf56a82a27",
   "metadata": {},
   "outputs": [
    {
     "data": {
      "text/plain": [
       "4.0"
      ]
     },
     "execution_count": 33,
     "metadata": {},
     "output_type": "execute_result"
    }
   ],
   "source": [
    "np.mean(a)"
   ]
  },
  {
   "cell_type": "code",
   "execution_count": 34,
   "id": "ade0d410-8522-4b6c-88f5-ca301fd0b5af",
   "metadata": {},
   "outputs": [
    {
     "data": {
      "text/plain": [
       "4.0"
      ]
     },
     "execution_count": 34,
     "metadata": {},
     "output_type": "execute_result"
    }
   ],
   "source": [
    "np.median(a)"
   ]
  },
  {
   "cell_type": "code",
   "execution_count": 36,
   "id": "c1040112-5cae-4cda-8192-5392c81d7340",
   "metadata": {},
   "outputs": [
    {
     "data": {
      "text/plain": [
       "12"
      ]
     },
     "execution_count": 36,
     "metadata": {},
     "output_type": "execute_result"
    }
   ],
   "source": [
    "np.multiply(3,4)"
   ]
  },
  {
   "cell_type": "code",
   "execution_count": 37,
   "id": "7aa91e19-7195-444a-989e-8101f73f1add",
   "metadata": {},
   "outputs": [
    {
     "data": {
      "text/plain": [
       "7"
      ]
     },
     "execution_count": 37,
     "metadata": {},
     "output_type": "execute_result"
    }
   ],
   "source": [
    "len(a)"
   ]
  },
  {
   "cell_type": "code",
   "execution_count": 38,
   "id": "45419a3d-1743-495d-89b3-3c3ad3934411",
   "metadata": {},
   "outputs": [
    {
     "data": {
      "text/plain": [
       "(1, 2, 3, 4, 5, 6)"
      ]
     },
     "execution_count": 38,
     "metadata": {},
     "output_type": "execute_result"
    }
   ],
   "source": [
    "a =(1,2,3)\n",
    "b= (4,5,6)\n",
    "a+b"
   ]
  },
  {
   "cell_type": "code",
   "execution_count": null,
   "id": "4c57bef0-a6ac-4ae5-8455-7980bc3df85e",
   "metadata": {},
   "outputs": [],
   "source": []
  }
 ],
 "metadata": {
  "kernelspec": {
   "display_name": "Python 3",
   "language": "python",
   "name": "python3"
  },
  "language_info": {
   "codemirror_mode": {
    "name": "ipython",
    "version": 3
   },
   "file_extension": ".py",
   "mimetype": "text/x-python",
   "name": "python",
   "nbconvert_exporter": "python",
   "pygments_lexer": "ipython3",
   "version": "3.9.6"
  }
 },
 "nbformat": 4,
 "nbformat_minor": 5
}
