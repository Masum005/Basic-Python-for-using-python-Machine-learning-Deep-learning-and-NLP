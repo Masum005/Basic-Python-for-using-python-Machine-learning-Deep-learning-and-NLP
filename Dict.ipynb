{
 "cells": [
  {
   "cell_type": "markdown",
   "id": "3231cdfd-d1d7-43ba-a8d4-4978a626a6de",
   "metadata": {},
   "source": [
    "### Dicto\n",
    "1.key\n",
    "2.Value"
   ]
  },
  {
   "cell_type": "code",
   "execution_count": 2,
   "id": "d48dec0c-4768-44c5-ba83-b7ac4e317009",
   "metadata": {},
   "outputs": [
    {
     "data": {
      "text/plain": [
       "dict"
      ]
     },
     "execution_count": 2,
     "metadata": {},
     "output_type": "execute_result"
    }
   ],
   "source": [
    "d = dict()\n",
    "type(d)"
   ]
  },
  {
   "cell_type": "code",
   "execution_count": 3,
   "id": "af7090d2-02c1-4916-81fd-40a2fe07a011",
   "metadata": {},
   "outputs": [],
   "source": [
    "dic =dict(key = 'value') \n",
    "d = dict([('key', 'value')])"
   ]
  },
  {
   "cell_type": "code",
   "execution_count": 4,
   "id": "1dfc9ad2-cd80-4739-8708-5a56fe206468",
   "metadata": {},
   "outputs": [
    {
     "data": {
      "text/plain": [
       "{'key': 'value'}"
      ]
     },
     "execution_count": 4,
     "metadata": {},
     "output_type": "execute_result"
    }
   ],
   "source": [
    "d"
   ]
  },
  {
   "cell_type": "code",
   "execution_count": 9,
   "id": "1ecca203-1145-434d-b6e4-e3f446628e7a",
   "metadata": {},
   "outputs": [],
   "source": [
    "info = {'Name' : 'masum',\n",
    "       'ID' : 'LS12345',\n",
    "       'Gender' :'male'}"
   ]
  },
  {
   "cell_type": "code",
   "execution_count": 10,
   "id": "d63dfa97-4bc4-4bdb-972b-80d30c30cbdd",
   "metadata": {},
   "outputs": [
    {
     "data": {
      "text/plain": [
       "{'Name': 'masum', 'ID': 'LS12345', 'Gender': 'male'}"
      ]
     },
     "execution_count": 10,
     "metadata": {},
     "output_type": "execute_result"
    }
   ],
   "source": [
    "info"
   ]
  },
  {
   "cell_type": "code",
   "execution_count": 11,
   "id": "1807738c-bf17-419c-a4f1-0352aa51e156",
   "metadata": {},
   "outputs": [
    {
     "data": {
      "text/plain": [
       "dict_keys(['Name', 'ID', 'Gender'])"
      ]
     },
     "execution_count": 11,
     "metadata": {},
     "output_type": "execute_result"
    }
   ],
   "source": [
    "info.keys()"
   ]
  },
  {
   "cell_type": "code",
   "execution_count": 12,
   "id": "75050b0e-3e0f-46a1-9ebd-bbdbe28dd4f9",
   "metadata": {},
   "outputs": [
    {
     "data": {
      "text/plain": [
       "dict_values(['masum', 'LS12345', 'male'])"
      ]
     },
     "execution_count": 12,
     "metadata": {},
     "output_type": "execute_result"
    }
   ],
   "source": [
    "info.values()"
   ]
  },
  {
   "cell_type": "code",
   "execution_count": 13,
   "id": "f4e3cce7-0d36-44b6-b88e-9e647f45080f",
   "metadata": {},
   "outputs": [
    {
     "data": {
      "text/plain": [
       "dict_items([('Name', 'masum'), ('ID', 'LS12345'), ('Gender', 'male')])"
      ]
     },
     "execution_count": 13,
     "metadata": {},
     "output_type": "execute_result"
    }
   ],
   "source": [
    "info.items()"
   ]
  },
  {
   "cell_type": "code",
   "execution_count": 15,
   "id": "8c7fdfb9-560a-466b-b276-87ba32fe69d5",
   "metadata": {},
   "outputs": [
    {
     "name": "stdout",
     "output_type": "stream",
     "text": [
      "Name : masum\n",
      "ID : LS12345\n",
      "Gender : male\n"
     ]
    }
   ],
   "source": [
    "for key, value in info.items():\n",
    "    print(key, ':', value)"
   ]
  },
  {
   "cell_type": "code",
   "execution_count": null,
   "id": "88fc3651-45b9-4ab6-a81d-d21bd27e7b91",
   "metadata": {},
   "outputs": [],
   "source": []
  }
 ],
 "metadata": {
  "kernelspec": {
   "display_name": "Python 3",
   "language": "python",
   "name": "python3"
  },
  "language_info": {
   "codemirror_mode": {
    "name": "ipython",
    "version": 3
   },
   "file_extension": ".py",
   "mimetype": "text/x-python",
   "name": "python",
   "nbconvert_exporter": "python",
   "pygments_lexer": "ipython3",
   "version": "3.9.6"
  }
 },
 "nbformat": 4,
 "nbformat_minor": 5
}
