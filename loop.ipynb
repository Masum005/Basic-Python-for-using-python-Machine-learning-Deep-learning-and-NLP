{
 "cells": [
  {
   "cell_type": "markdown",
   "id": "d221309a-2d3d-41b4-bf9c-5b1606df023e",
   "metadata": {},
   "source": [
    "### Loop"
   ]
  },
  {
   "cell_type": "code",
   "execution_count": null,
   "id": "ef34b453-d508-43c2-a144-4d8985e4bc22",
   "metadata": {},
   "outputs": [],
   "source": [
    "a = []\n",
    "for i in range(1,11):\n",
    "        a.append(i)"
   ]
  },
  {
   "cell_type": "code",
   "execution_count": null,
   "id": "6dc32392-6033-4ebe-8a04-9fb13098db61",
   "metadata": {},
   "outputs": [],
   "source": [
    "a"
   ]
  },
  {
   "cell_type": "code",
   "execution_count": null,
   "id": "19902bad-f3c8-4144-bf9e-9fa3efb0a02a",
   "metadata": {},
   "outputs": [],
   "source": [
    "#even\n",
    "for i in range (1,11):\n",
    "    if i%2==0:\n",
    "        print(i)"
   ]
  },
  {
   "cell_type": "code",
   "execution_count": null,
   "id": "3ab0edae-3161-40f2-8c41-e71209c3494a",
   "metadata": {},
   "outputs": [],
   "source": [
    "#ODD\n",
    "for i in range (1,11):\n",
    "    if i%2!=0:\n",
    "        print(i)"
   ]
  },
  {
   "cell_type": "code",
   "execution_count": null,
   "id": "9cb299b8-c02d-485e-99dd-00ec0a982892",
   "metadata": {},
   "outputs": [],
   "source": [
    "i =0\n",
    "while i<7:\n",
    "    print(i)\n",
    "    if i == 2:\n",
    "        print('Break')\n",
    "        break\n",
    "        \n",
    "     i+=1\n",
    "    "
   ]
  },
  {
   "cell_type": "code",
   "execution_count": null,
   "id": "d3b9e1c0-429c-4608-991e-af77826338eb",
   "metadata": {},
   "outputs": [],
   "source": []
  },
  {
   "cell_type": "code",
   "execution_count": null,
   "id": "35373aef-7f63-4e08-b81a-09f3505eb3f7",
   "metadata": {},
   "outputs": [],
   "source": []
  }
 ],
 "metadata": {
  "kernelspec": {
   "display_name": "Python 3",
   "language": "python",
   "name": "python3"
  },
  "language_info": {
   "codemirror_mode": {
    "name": "ipython",
    "version": 3
   },
   "file_extension": ".py",
   "mimetype": "text/x-python",
   "name": "python",
   "nbconvert_exporter": "python",
   "pygments_lexer": "ipython3",
   "version": "3.9.6"
  }
 },
 "nbformat": 4,
 "nbformat_minor": 5
}
